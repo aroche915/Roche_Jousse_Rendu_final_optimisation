{
 "cells": [
  {
   "cell_type": "code",
   "execution_count": 104,
   "metadata": {
    "scrolled": true
   },
   "outputs": [
    {
     "name": "stdout",
     "output_type": "stream",
     "text": [
      "vecteur prix :  [0.1 0.1 0.1 0.1 0.1 0.1 0.1 0.1 0.2 0.2 0.2 0.2 0.1 0.1 0.1 0.1 0.2 0.2\n",
      " 0.2 0.2 0.2 0.2 0.1 0.1]\n",
      "Nombre d'iterations :  100000\n",
      "lambdak :  [2.63985448e+01 5.99198719e-04 5.99198719e-04 5.99198719e-04\n",
      " 5.99198719e-04 0.00000000e+00 0.00000000e+00 0.00000000e+00\n",
      " 0.00000000e+00 1.19586197e-01 1.19586197e-01 1.19586197e-01\n",
      " 1.19586197e-01 0.00000000e+00 0.00000000e+00 5.99198719e-04\n",
      " 5.99198719e-04 3.00158656e-01 3.00158656e-01 3.00158656e-01\n",
      " 3.00158656e-01 3.00158656e-01 3.00158656e-01 5.99198719e-04\n",
      " 5.99198719e-04 0.00000000e+00 0.00000000e+00 0.00000000e+00\n",
      " 0.00000000e+00 0.00000000e+00 0.00000000e+00 0.00000000e+00\n",
      " 0.00000000e+00 0.00000000e+00 0.00000000e+00 0.00000000e+00\n",
      " 0.00000000e+00 0.00000000e+00 0.00000000e+00 0.00000000e+00\n",
      " 0.00000000e+00 0.00000000e+00 0.00000000e+00 0.00000000e+00\n",
      " 0.00000000e+00 0.00000000e+00 0.00000000e+00 0.00000000e+00\n",
      " 0.00000000e+00]\n",
      "wk [-0.00295916 -0.00295916 -0.00295916 -0.00295916  2.25171331  2.25171331\n",
      "  2.25171331  2.25171331  0.01602805  0.01602805  0.01602805  0.01602805\n",
      "  2.25171331  2.25171331 -0.00295916 -0.00295916  0.05423562  0.05423562\n",
      "  0.05423562  0.05423562  0.05423562  0.05423562 -0.00295916 -0.00295916]\n",
      "temps dexecution (en s) :  11.555805921554565\n"
     ]
    },
    {
     "data": {
      "image/png": "[encoded data removed]",
      "text/plain": [
       "<Figure size 432x288 with 1 Axes>"
      ]
     },
     "metadata": {
      "needs_background": "light"
     },
     "output_type": "display_data"
    }
   ],
   "source": [
    "import numpy as np\n",
    "import time\n",
    "import matplotlib.pyplot as plt\n",
    "\n",
    "\"\"\"une journée compte 24 heures, c'est sur une discrétisation en heures que nous allons construire nos vecteurs\"\"\"\n",
    "h = 24\n",
    "\n",
    "#données\n",
    "b0 = 0.0043\n",
    "u0 = 230\n",
    "q_max = 0.050\n",
    "p = np.array([0.1 for k in range(8)]+[0.2 for k in range(4)] + [0.1 for k in range(4)] + [0.2 for k in range(6)] + [0.1 for k in range(2)] )\n",
    "print('vecteur prix : ', p)\n",
    "\n",
    "# Vecteur puissance initial en kw\n",
    "w_max = 9\n",
    "w0 = w_max*np.ones(h)\n",
    "\n",
    "\n",
    "# Définition des paramètres, donnés par le conducteur\n",
    "ni = 4\n",
    "nf = 13\n",
    "SOC_0 = 0.3\n",
    "SOC_f = 0.9\n",
    "\n",
    "# Construisons l'indicatrice\n",
    "ind = []\n",
    "for i in range(h) :\n",
    "    if i>nf or i<ni :\n",
    "        ind.append(0)\n",
    "    else :\n",
    "        ind.append(1)\n",
    "ind = np.array(ind)\n",
    "\n",
    "\n",
    "# Fonction coût\n",
    "def fun(w) :\n",
    "    return np.dot(p,w)\n",
    "\n",
    "# Gradient de la fonction coût\n",
    "def grad_fun(w):\n",
    "        return p\n",
    "\n",
    "# Vecteur des contraintes\n",
    "def contraintes(w) :\n",
    "    c3 = q_max*(SOC_f - SOC_0) - b0 * np.dot(ind,w)\n",
    "    contraintes = [c3] + list(-w) + list(w - w_max)\n",
    "    return np.array(contraintes)\n",
    "\n",
    "# Gradient des contraintes\n",
    "def grad_c(w) :\n",
    "    grad_c3 = - (b0 * ind)\n",
    "    gradcontraintes = [grad_c3]\n",
    "    identite = np.eye(h)\n",
    "    for k in range(h) :\n",
    "        gradcontraintes.append(- identite[k])\n",
    "    for i in range(h) :\n",
    "        gradcontraintes.append(identite[i])\n",
    "    return np.array(gradcontraintes)\n",
    "\n",
    "# Les coefficiens de lagrange, de taille 2h + 1, initialisés à 0\n",
    "lambda0 = np.zeros(2*h + 1)\n",
    "\n",
    "# On écrit l'algorithme :\n",
    "\n",
    "def uzawa_fixed_step_array(fun, grad_fun, c, grad_c, w0, l, rho, lambda0, max_iter = 100000, epsilon_grad_L = 1e-8):\n",
    "    k = 0\n",
    "    wk = w0\n",
    "    lambdak = lambda0\n",
    "    grad_Lagrangienk_wk = grad_fun(wk) + np.dot(lambdak, grad_c(wk))\n",
    "    while ((k<max_iter) and (np.linalg.norm(grad_Lagrangienk_wk)>epsilon_grad_L)):\n",
    "        grad_Lagrangienk_wk = grad_fun(wk) + np.dot(lambdak, grad_c(wk))\n",
    "        pk = - grad_Lagrangienk_wk\n",
    "        wk = wk + l*pk;    \n",
    "        lambdak = np.maximum(0, lambdak + rho * c(wk))        \n",
    "        k = k + 1\n",
    "    print(\"Nombre d'iterations : \", k)\n",
    "    print(\"lambdak : \", lambdak)\n",
    "    return wk\n",
    "\n",
    "t0 = time.time()\n",
    "x = uzawa_fixed_step_array(fun, grad_fun, contraintes, grad_c, w0, 0.01, 0.1, lambda0)\n",
    "tf = time.time() - t0\n",
    "print(\"wk\", x)\n",
    "print(\"temps dexecution (en s) : \", tf)\n",
    "\n",
    "temps = np.linspace(0, 23, num=24)\n",
    "plt.plot(temps, x, '+')\n",
    "plt.show()\n"
   ]
  },
  {
   "cell_type": "code",
   "execution_count": 102,
   "metadata": {},
   "outputs": [
    {
     "data": {
      "text/plain": [
       "-13.5443920525047"
      ]
     },
     "execution_count": 102,
     "metadata": {},
     "output_type": "execute_result"
    }
   ],
   "source": [
    "q_max*(SOC_f - SOC_0)-np.dot(ind,x)"
   ]
  },
  {
   "cell_type": "code",
   "execution_count": null,
   "metadata": {},
   "outputs": [],
   "source": []
  }
 ],
 "metadata": {
  "kernelspec": {
   "display_name": "Python 3",
   "language": "python",
   "name": "python3"
  },
  "language_info": {
   "codemirror_mode": {
    "name": "ipython",
    "version": 3
   },
   "file_extension": ".py",
   "mimetype": "text/x-python",
   "name": "python",
   "nbconvert_exporter": "python",
   "pygments_lexer": "ipython3",
   "version": "3.7.3"
  }
 },
 "nbformat": 4,
 "nbformat_minor": 2
}
